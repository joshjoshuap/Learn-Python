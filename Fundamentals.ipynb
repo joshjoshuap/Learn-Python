{
 "cells": [
  {
   "cell_type": "markdown",
   "id": "67ed5c70",
   "metadata": {},
   "source": [
    "Data Types"
   ]
  },
  {
   "cell_type": "code",
   "execution_count": 4,
   "id": "98d006a0",
   "metadata": {},
   "outputs": [],
   "source": [
    "number = 1\n",
    "float = 5.5\n",
    "string = 'Joshua'\n",
    "StringList = ['Apple', 'Banana', 'Orange']\n",
    "NumberList = [1,2,3]\n",
    "CombinedList = ['one', 2, 'three']\n",
    "Dictionaries = {'firstname' : 'Joshua', 'age': 24}\n",
    "isTrue = True"
   ]
  },
  {
   "cell_type": "code",
   "execution_count": 5,
   "id": "d9180e96",
   "metadata": {},
   "outputs": [
    {
     "name": "stdout",
     "output_type": "stream",
     "text": [
      "Apple\n",
      "Joshua\n"
     ]
    }
   ],
   "source": [
    "print(StringList[0])\n",
    "print(Dictionaries['firstname'])"
   ]
  },
  {
   "cell_type": "markdown",
   "id": "71a018eb",
   "metadata": {},
   "source": [
    "Numbers Arithmetic"
   ]
  },
  {
   "cell_type": "code",
   "execution_count": 27,
   "id": "f514da10",
   "metadata": {},
   "outputs": [],
   "source": [
    "number1 = 5\n",
    "number2 = 8\n",
    "number3 = 10\n",
    "\n",
    "addition = number1 + number2\n",
    "subtraction = number2 - number3\n",
    "multiplication = number1 * number2 * number3\n",
    "division = number3 / number1\n",
    "modulo = number2 % number3\n",
    "remainder = 23 % 2 # 1\n",
    "noRemainder = 22 % 2 # 0\n",
    "power = 2 ** 3 # 2 * 2 * 2 = 8\n",
    "multiples = 2 + 3 * 4 + 5 # 19\n",
    "specifics = (2 + 3) * (4 + 5) # 45"
   ]
  },
  {
   "cell_type": "code",
   "execution_count": 28,
   "id": "8206c3b0",
   "metadata": {},
   "outputs": [
    {
     "name": "stdout",
     "output_type": "stream",
     "text": [
      "1\n",
      "0\n",
      "8\n",
      "19\n",
      "45\n"
     ]
    }
   ],
   "source": [
    "print(remainder)\n",
    "print(noRemainder)\n",
    "print(power)\n",
    "print(multiples)\n",
    "print(specifics)"
   ]
  },
  {
   "cell_type": "markdown",
   "id": "f35245e9",
   "metadata": {},
   "source": [
    "Strings"
   ]
  },
  {
   "cell_type": "markdown",
   "id": "aa3a96a3",
   "metadata": {},
   "source": [
    "print(indexingString[0]) - first letter\n",
    "\n",
    "print(indexingString[-1]) - last letter\n",
    "\n",
    "print(slicingString[5:]) - display index 5 and up\n",
    "\n",
    "print(slicingString[0:4]) - display between index 0 to 4\n",
    "\n",
    "print(stepSlicingString[::2]) - removing every 2 stewp\n",
    "\n",
    "print(stepSlicingString[0:5:2]) - removing every 2 step between 0 to 5"
   ]
  },
  {
   "cell_type": "code",
   "execution_count": 29,
   "id": "91d05126",
   "metadata": {},
   "outputs": [
    {
     "name": "stdout",
     "output_type": "stream",
     "text": [
      "38\n",
      "H\n",
      "d\n",
      "Joshua\n",
      "Josh\n",
      "13579\n",
      "135\n"
     ]
    }
   ],
   "source": [
    "stringLength = len(\"This will count the length of a string\")\n",
    "indexingString = \"Hello World\"\n",
    "slicingString = \"Josh Joshua\"\n",
    "stepSlicingString = '123456789'\n",
    "\n",
    "print(stringLength)\n",
    "print(indexingString[0]) # first letter\n",
    "print(indexingString[-1]) # last letter\n",
    "print(slicingString[5:]) # Joshua\n",
    "print(slicingString[0:4]) # Josh\n",
    "print(stepSlicingString[::2]) # 13579\n",
    "print(stepSlicingString[0:5:2]) # 135"
   ]
  }
 ],
 "metadata": {
  "kernelspec": {
   "display_name": "Python 3 (ipykernel)",
   "language": "python",
   "name": "python3"
  },
  "language_info": {
   "codemirror_mode": {
    "name": "ipython",
    "version": 3
   },
   "file_extension": ".py",
   "mimetype": "text/x-python",
   "name": "python",
   "nbconvert_exporter": "python",
   "pygments_lexer": "ipython3",
   "version": "3.12.1"
  }
 },
 "nbformat": 4,
 "nbformat_minor": 5
}
