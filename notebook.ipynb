{
 "cells": [
  {
   "cell_type": "markdown",
   "id": "679bd23c",
   "metadata": {},
   "source": [
    "--- DATA TYPE ---\n",
    "\n",
    "1 - Integer\n",
    "\n",
    "5.5 - Float\n",
    "\n",
    "Joshua' - String\n",
    "\n",
    "['Apple', 'Banana', 'Orange'] - Array String\n",
    "\n",
    "[1,2,3] - Array Number\n",
    "\n",
    "['one', 2, 'three'] - Combined Array\n",
    "\n",
    "{'firstname' : 'Joshua', 'age': 24} - Object\n",
    "\n",
    "True - Boolean"
   ]
  },
  {
   "cell_type": "markdown",
   "id": "ca3e52e1",
   "metadata": {},
   "source": [
    "--- STRING ARTIHMETIC ---\n",
    "\n",
    "indexingString[0] - first letter\n",
    "\n",
    "indexingString[-1] - last letter\n",
    "\n",
    "slicingString[5:] - display index 5 and up\n",
    "\n",
    "slicingString[0:4] - display between index 0 to 4\n",
    "\n",
    "stepSlicingString[::2] - removing every 2 step\n",
    "\n",
    "stepSlicingString[0:5:2] - removing every 2 step between 0 to 5"
   ]
  },
  {
   "cell_type": "markdown",
   "id": "7a08ef32",
   "metadata": {},
   "source": [
    "--- STRING FORMAT ---\n",
    "\n",
    "'Sample String {} {} {}'.format('A', 'B', 'C') // Sample String A B C\n",
    "\n",
    "'Sample String {0} {0} {0}'.format('A', 'B', 'C') // Sample String A A A\n",
    "\n",
    "'Sample String {0} {1} {0}'.format('A', 'B', 'C') // Sample String A B A"
   ]
  }
 ],
 "metadata": {
  "kernelspec": {
   "display_name": "Python 3 (ipykernel)",
   "language": "python",
   "name": "python3"
  },
  "language_info": {
   "codemirror_mode": {
    "name": "ipython",
    "version": 3
   },
   "file_extension": ".py",
   "mimetype": "text/x-python",
   "name": "python",
   "nbconvert_exporter": "python",
   "pygments_lexer": "ipython3",
   "version": "3.12.1"
  }
 },
 "nbformat": 4,
 "nbformat_minor": 5
}
